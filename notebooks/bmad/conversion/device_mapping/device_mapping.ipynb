{
 "cells": [
  {
   "cell_type": "markdown",
   "metadata": {},
   "source": [
    "# Device mapping\n",
    "\n",
    "Put device names in element alias field.\n",
    "\n",
    "The master mapping of device name to element name is from the SLACPROD Oracle Database, downloaded as a CSV file:\n",
    "\n",
    "https://oraweb.slac.stanford.edu/apex/slacprod/f?p=116:600\n"
   ]
  },
  {
   "cell_type": "code",
   "execution_count": 2,
   "metadata": {},
   "outputs": [],
   "source": [
    "import pandas as pd\n",
    "import numpy as np\n",
    "import json\n",
    "import os"
   ]
  },
  {
   "cell_type": "markdown",
   "metadata": {},
   "source": [
    "# SLACPROD Oracle Table"
   ]
  },
  {
   "cell_type": "code",
   "execution_count": 3,
   "metadata": {},
   "outputs": [
    {
     "data": {
      "text/plain": [
       "'/home/mpe/repos/facet2-lattice/'"
      ]
     },
     "execution_count": 3,
     "metadata": {},
     "output_type": "execute_result"
    }
   ],
   "source": [
    "#%env LCLS_LATTICE=/home/mpe/repos/lcls-lattice\n",
    "os.path.expandvars('$FACET2_LATTICE')"
   ]
  },
  {
   "cell_type": "code",
   "execution_count": 4,
   "metadata": {},
   "outputs": [],
   "source": [
    "# Table extracted from SLACPROD Oracle Database\n",
    "#%env LCLS_LATTICE=/home/mpe/code/lcls-lattice\n",
    "MASTER = '$FACET2_LATTICE/bmad/conversion/from_oracle/lcls_elements.csv'\n",
    "\n",
    "df = pd.read_csv(os.path.expandvars(MASTER))\n",
    "\n",
    "# Remove empty\n",
    "df = df[['Element', 'Control System Name']].dropna()"
   ]
  },
  {
   "cell_type": "code",
   "execution_count": 5,
   "metadata": {},
   "outputs": [
    {
     "data": {
      "text/plain": [
       "(3699, 3699)"
      ]
     },
     "execution_count": 5,
     "metadata": {},
     "output_type": "execute_result"
    }
   ],
   "source": [
    "# These are unique\n",
    "MADNAMES = list(df['Element'])\n",
    "len(MADNAMES), len(set(MADNAMES))"
   ]
  },
  {
   "cell_type": "code",
   "execution_count": 6,
   "metadata": {},
   "outputs": [
    {
     "data": {
      "text/plain": [
       "(3699, 3286)"
      ]
     },
     "execution_count": 6,
     "metadata": {},
     "output_type": "execute_result"
    }
   ],
   "source": [
    "# These are not\n",
    "DEVICENAMES = list(df['Control System Name'])\n",
    "len(DEVICENAMES), len(set(DEVICENAMES))"
   ]
  },
  {
   "cell_type": "code",
   "execution_count": 7,
   "metadata": {},
   "outputs": [],
   "source": [
    "# These devices have multiple elements - a mistake?\n",
    "series  = df.groupby('Control System Name')['Element'].apply(list)\n",
    "for i, val in series.items():\n",
    "    if len(val) > 1:\n",
    "        # Skip klystrons - these are expected to be duplicated\n",
    "        if not val[0].startswith('K'):\n",
    "            print(i, val)"
   ]
  },
  {
   "cell_type": "code",
   "execution_count": 8,
   "metadata": {},
   "outputs": [],
   "source": [
    "# dict for lookup\n",
    "DEVICE = dict(zip(MADNAMES, DEVICENAMES))\n",
    "json.dump(DEVICE, open('element_devices.json', 'w'))"
   ]
  },
  {
   "cell_type": "markdown",
   "metadata": {},
   "source": [
    "# Models "
   ]
  },
  {
   "cell_type": "code",
   "execution_count": 10,
   "metadata": {},
   "outputs": [],
   "source": [
    "BDIR = os.path.expandvars('$FACET2_LATTICE/bmad/')"
   ]
  },
  {
   "cell_type": "code",
   "execution_count": 21,
   "metadata": {},
   "outputs": [
    {
     "data": {
      "text/plain": [
       "{'FACET2e': '$FACET2_LATTICE/bmad/models/FACET2e/tao.init',\n",
       " 'f2_elec': '$FACET2_LATTICE/bmad/models/f2_elec/tao.init',\n",
       " 'f2_posi': '$FACET2_LATTICE/bmad/models/f2_posi/tao.init',\n",
       " 'f2e_inj': '$FACET2_LATTICE/bmad/models/f2e_inj/tao.init',\n",
       " 'FACET2p_DR': '$FACET2_LATTICE/bmad/models/FACET2p_DR/tao.init'}"
      ]
     },
     "execution_count": 21,
     "metadata": {},
     "output_type": "execute_result"
    }
   ],
   "source": [
    "# All models\n",
    "MODELS = [d for d in os.listdir(BDIR+'models/') if os.path.isdir(BDIR+'/models/'+d)]\n",
    "INITFILE = {model:f'$FACET2_LATTICE/bmad/models/{model}/tao.init' for model in MODELS}\n",
    "INITFILE"
   ]
  },
  {
   "cell_type": "markdown",
   "metadata": {},
   "source": [
    "# PyTao"
   ]
  },
  {
   "cell_type": "code",
   "execution_count": 14,
   "metadata": {},
   "outputs": [],
   "source": [
    "from pytao import Tao\n",
    "import os"
   ]
  },
  {
   "cell_type": "code",
   "execution_count": 15,
   "metadata": {},
   "outputs": [],
   "source": [
    "def ele_names(model):\n",
    "    init = INITFILE[model]\n",
    "    tao = Tao(f'-init {init} -noplot')\n",
    "    names = tao.cmd('python lat_list 1@0>>*|model ele.name')\n",
    "    return names\n",
    "\n",
    "def remove_superslaves(names):\n",
    "    return [x for x in names if '#' not in x]"
   ]
  },
  {
   "cell_type": "code",
   "execution_count": 16,
   "metadata": {},
   "outputs": [],
   "source": [
    "def write_devicenames(unames, filename):\n",
    "    my_names = remove_superslaves(unames)\n",
    "    lines = ['! ---------',\n",
    "             '! Device mapping derived from '+MASTER\n",
    "             \n",
    "            ]\n",
    "    for name in my_names:\n",
    "        if name in DEVICE:\n",
    "            line = name+'[alias]='+ DEVICE[name]\n",
    "            \n",
    "        else:\n",
    "            #continue\n",
    "            line = '! No device listed for: '+name\n",
    "        lines.append(line)    \n",
    "    with open(filename, 'w') as f:\n",
    "        for line in lines:\n",
    "            f.write(line+'\\n')\n",
    "    print('Written:', filename)"
   ]
  },
  {
   "cell_type": "markdown",
   "metadata": {},
   "source": [
    "# Add to FACET-II"
   ]
  },
  {
   "cell_type": "code",
   "execution_count": 28,
   "metadata": {},
   "outputs": [
    {
     "name": "stdout",
     "output_type": "stream",
     "text": [
      "f2_elec\n",
      "Written: /home/mpe/repos/facet2-lattice//bmad//master/FACET2e_devicenames.bmad\n"
     ]
    }
   ],
   "source": [
    "if os.path.exists(FDIR):\n",
    "    F2_FILE = f'{FDIR}/master/FACET2e_devicenames.bmad'\n",
    "    models = ['f2_elec']\n",
    "    names = []\n",
    "    for m in models:\n",
    "        print(m)\n",
    "        names += ele_names(m)\n",
    "    unames = sorted(list(set(names)))\n",
    "    unames\n",
    "    write_devicenames(unames, F2_FILE)"
   ]
  },
  {
   "cell_type": "markdown",
   "metadata": {},
   "source": [
    "# elementdevices (old method)"
   ]
  },
  {
   "cell_type": "code",
   "execution_count": 20,
   "metadata": {},
   "outputs": [],
   "source": [
    "#\n",
    "#\n",
    "#    ELEMENTDEVICES = os.path.expandvars('$LCLS_LATTICE/mad/elementdevices.dat')\n",
    "#    os.path.exists(ELEMENTDEVICES)\n",
    "#    \n",
    "#    def parse_elementdevices(elementdevices_filename):\n",
    "#        \"\"\"\n",
    "#        \n",
    "#        Parameters\n",
    "#        ----------\n",
    "#        elementdevices_filename\n",
    "#        \n",
    "#        Returns\n",
    "#        -------\n",
    "#        device: dict of ele_name:devicename\n",
    "#        not_found: list of ele_names with no device\n",
    "#        \n",
    "#        \"\"\"\n",
    "#        device = {}\n",
    "#        not_found = []\n",
    "#        with open(elementdevices_filename) as f:\n",
    "#            for line in f:\n",
    "#                x = line.split()\n",
    "#                if len(x) != 2:\n",
    "#                    continue\n",
    "#    \n",
    "#                ele, devicename = x\n",
    "#                if devicename == '-':\n",
    "#                    not_found.append(ele)\n",
    "#                    continue\n",
    "#                if ele in device:\n",
    "#                    raise ValueError('ele already has a a device:', ele, device[ele])\n",
    "#    \n",
    "#                device[ele] = devicename   \n",
    "#                \n",
    "#        return device, not_found\n",
    "#    DNAME, NOT_FOUND = parse_elementdevices(ELEMENTDEVICES)    \n",
    "#    len(list(DNAME)), len(NOT_FOUND)"
   ]
  },
  {
   "cell_type": "code",
   "execution_count": 21,
   "metadata": {},
   "outputs": [],
   "source": [
    "## Check for missing or mismatched items\n",
    "#for ele, dev in DNAME.items():\n",
    "#    if ele not in DEVICE:\n",
    "#        #continue\n",
    "#        print('Missing from Oracle table:', ele, dev)\n",
    "#    else:\n",
    "#        oracle_dev = DEVICE[ele] \n",
    "#        if oracle_dev != dev:\n",
    "#        #    continue\n",
    "#            print('Device mismatch for ele, oracle, elementdevices.dat:', ele, oracle_dev, dev)"
   ]
  }
 ],
 "metadata": {
  "kernelspec": {
   "display_name": "Python 3 (ipykernel)",
   "language": "python",
   "name": "python3"
  },
  "language_info": {
   "codemirror_mode": {
    "name": "ipython",
    "version": 3
   },
   "file_extension": ".py",
   "mimetype": "text/x-python",
   "name": "python",
   "nbconvert_exporter": "python",
   "pygments_lexer": "ipython3",
   "version": "3.8.18"
  }
 },
 "nbformat": 4,
 "nbformat_minor": 4
}
