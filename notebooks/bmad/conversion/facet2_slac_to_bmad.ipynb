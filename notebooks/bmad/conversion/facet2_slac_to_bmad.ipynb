{
 "cells": [
  {
   "cell_type": "code",
   "execution_count": 1,
   "metadata": {},
   "outputs": [],
   "source": [
    "# Useful for debugging\n",
    "%load_ext autoreload\n",
    "%autoreload 2"
   ]
  },
  {
   "cell_type": "markdown",
   "metadata": {},
   "source": [
    "# SLAC XSIF to Bmad conversion\n",
    "\n",
    "This requires code from LCLS_LATTICE"
   ]
  },
  {
   "cell_type": "code",
   "execution_count": 2,
   "metadata": {},
   "outputs": [],
   "source": [
    "# Patch in the slac2bmad package\n",
    "import sys, os\n",
    "pypath = os.environ['LCLS_LATTICE']+'/bmad/conversion/python'\n",
    "sys.path.append(pypath)"
   ]
  },
  {
   "cell_type": "code",
   "execution_count": 3,
   "metadata": {},
   "outputs": [],
   "source": [
    "from slac2bmad.xsif import prepare_xsif, remove_comment_blocks, replace_set, replace_set_commands, fix_matrix, expand_names, fix_names, unfold_comments, fold_comments\n",
    "from slac2bmad.desplit import desplit_eles, desplit_ele\n",
    "from slac2bmad.replace import replace_element, replace_eles\n",
    "from slac2bmad.bmad import finalize_bmad\n",
    "\n",
    "from glob import glob\n",
    "import shutil\n",
    "\n",
    "import subprocess\n",
    "import json\n",
    "import os"
   ]
  },
  {
   "cell_type": "markdown",
   "metadata": {},
   "source": [
    "# Custom element replacements (in Bmad)"
   ]
  },
  {
   "cell_type": "code",
   "execution_count": 4,
   "metadata": {},
   "outputs": [],
   "source": [
    "NEWELES = {}\n",
    "\n",
    "NEWELES['um10466'] = \"\"\"\n",
    "!------- Laser Heater Undulator for Copper Linac -------\n",
    "my_lh_und_k = 0\n",
    "um10466: wiggler, \n",
    "        type = \"laser_heater_undulator\",\n",
    "        L_period = 0.054, \n",
    "        n_period = 10, \n",
    "        b_max = my_lh_und_k * 2*pi*m_electron / (c_light * 0.054), \n",
    "        L = 10*0.054 ! Was: 0.506263, \n",
    "        ds_step = 0.054\n",
    "        \n",
    "um10466[L] = um10466[L]/2 ! Will be doubled in desplitting process. \n",
    "!---------------------------------\n",
    "    \"\"\"\n",
    "        \n",
    "NEWELES['dh02b'] = \"\"\"\n",
    "! Shorten so that lh_und has an integer number of poles\n",
    "dh02b: drift, l = 0.0846296264 - ( 10*0.054 - 0.506263 ) /2\n",
    "\"\"\"\n",
    "\n",
    "NEWELES['dh03a'] = \"\"\"\n",
    "! Shorten so that lh_und has an integer number of poles\n",
    "dh03a: drift, l = 0.0845477112 - ( 10*0.054 - 0.506263 ) /2\n",
    "\"\"\"    "
   ]
  },
  {
   "cell_type": "code",
   "execution_count": 5,
   "metadata": {},
   "outputs": [],
   "source": [
    "# Add these repalcements\n",
    "F2_LINAC_REPLACEMENTS = json.load(open('good_facet2_linac_replacements.json'))\n",
    "for name, replace in F2_LINAC_REPLACEMENTS.items():\n",
    "    NEWELES[name.lower()+'_full'] = replace   "
   ]
  },
  {
   "cell_type": "code",
   "execution_count": 6,
   "metadata": {},
   "outputs": [],
   "source": [
    "def all_replacements(master_file):\n",
    "    dat = {}\n",
    "    dat.update(NEWELES)\n",
    "    #if master_file.startswith('F2_'):\n",
    "    #    print('F2replacements')\n",
    "    #    dat.update(F2_NEWELES)\n",
    "    #    return dat\n",
    "    #else:\n",
    "    #    raise \n",
    "    return dat\n",
    "#all_replacements('F2_')        "
   ]
  },
  {
   "cell_type": "markdown",
   "metadata": {},
   "source": [
    "# Convert all"
   ]
  },
  {
   "cell_type": "code",
   "execution_count": 7,
   "metadata": {},
   "outputs": [
    {
     "name": "stdout",
     "output_type": "stream",
     "text": [
      "mkdir: cannot create directory ‘temp’: File exists\n"
     ]
    }
   ],
   "source": [
    "!mkdir temp"
   ]
  },
  {
   "cell_type": "code",
   "execution_count": 8,
   "metadata": {},
   "outputs": [
    {
     "name": "stdout",
     "output_type": "stream",
     "text": [
      "rm: cannot remove '*xsif': No such file or directory\n",
      "rm: cannot remove '*bmad': No such file or directory\n",
      "rm: cannot remove '*digested*': No such file or directory\n"
     ]
    }
   ],
   "source": [
    "# Clean\n",
    "!rm *xsif *bmad *digested*"
   ]
  },
  {
   "cell_type": "code",
   "execution_count": 9,
   "metadata": {},
   "outputs": [],
   "source": [
    "!cp ~/repos/facet2-lattice/MAD/*.xsif ."
   ]
  },
  {
   "cell_type": "code",
   "execution_count": 10,
   "metadata": {},
   "outputs": [
    {
     "name": "stdout",
     "output_type": "stream",
     "text": [
      "Preparing QF2Q.xsif\n",
      "Preparing DL10.xsif\n",
      "Preparing SCAV.xsif\n",
      "Preparing BC20P.xsif\n",
      "Preparing LI20.xsif\n",
      "Preparing L3.xsif\n",
      "Preparing QDDSQ.xsif\n",
      "Preparing FACET2p_PRLTDR.xsif\n",
      "Preparing L1.xsif\n",
      "Preparing INJ.xsif\n",
      "Preparing BD.xsif\n",
      "Preparing BC11.xsif\n",
      "Preparing L2.xsif\n",
      "Preparing FACET2p_DRTBC11.xsif\n",
      "Preparing F2_POSI.xsif\n",
      "Preparing FACET2e_master.xsif\n",
      "Preparing BA.xsif\n",
      "Preparing FACET2p_master.xsif\n",
      "Preparing BC20E.xsif\n",
      "Preparing QFCQ.xsif\n",
      "Preparing BC14.xsif\n",
      "Preparing F2_ELEC.xsif\n",
      "Preparing F2_SCAV.xsif\n",
      "Preparing FACET2p_DR.xsif\n",
      "Preparing F2_S10AIP.xsif\n",
      "Preparing common.xsif\n"
     ]
    }
   ],
   "source": [
    "XSIF_FILES=[f for f in os.listdir() if f.endswith('.xsif')]\n",
    "for f in XSIF_FILES:\n",
    "    prepare_xsif(f, save=False)"
   ]
  },
  {
   "cell_type": "code",
   "execution_count": 11,
   "metadata": {},
   "outputs": [],
   "source": [
    "!mv *.xsif temp/"
   ]
  },
  {
   "cell_type": "code",
   "execution_count": 12,
   "metadata": {},
   "outputs": [
    {
     "data": {
      "text/plain": [
       "['F2_POSI.xsif', 'F2_ELEC.xsif', 'F2_SCAV.xsif', 'F2_S10AIP.xsif']"
      ]
     },
     "execution_count": 12,
     "metadata": {},
     "output_type": "execute_result"
    }
   ],
   "source": [
    "F2_MASTERS = [f for f in os.listdir('../../MAD') if f.startswith('F2_')]\n",
    "F2_MASTERS"
   ]
  },
  {
   "cell_type": "code",
   "execution_count": 13,
   "metadata": {},
   "outputs": [],
   "source": [
    "TEMPDIR = './temp/'\n",
    "WORKDIR = './work/'"
   ]
  },
  {
   "cell_type": "code",
   "execution_count": 14,
   "metadata": {},
   "outputs": [
    {
     "name": "stdout",
     "output_type": "stream",
     "text": [
      "mkdir: cannot create directory ‘./temp/’: File exists\n",
      "mkdir: cannot create directory ‘./work/’: File exists\n"
     ]
    }
   ],
   "source": [
    "!mkdir {TEMPDIR}\n",
    "!mkdir {WORKDIR}"
   ]
  },
  {
   "cell_type": "markdown",
   "metadata": {},
   "source": [
    "# Process "
   ]
  },
  {
   "cell_type": "code",
   "execution_count": 15,
   "metadata": {},
   "outputs": [],
   "source": [
    "DEST = os.path.expandvars('/home/mpe/repos/facet2-lattice/bmad/master/')\n",
    "assert os.path.exists(DEST)"
   ]
  },
  {
   "cell_type": "code",
   "execution_count": 20,
   "metadata": {
    "tags": []
   },
   "outputs": [
    {
     "name": "stdout",
     "output_type": "stream",
     "text": [
      "Converting F2_ELEC.xsif\n",
      "BA.xsif     common.bmad     F2_SCAV.xsif\t  INJ.xsif   LI20.xsif\n",
      "BC11.bmad   common.xsif     FACET2e_master.bmad   L1.bmad    QDDSQ.xsif\n",
      "BC11.xsif   DL10.bmad\t    FACET2e_master.xsif   L1.xsif    QF2Q.xsif\n",
      "BC14.bmad   DL10.xsif\t    FACET2p_DRTBC11.xsif  L2.bmad    QFCQ.xsif\n",
      "BC14.xsif   F2_ELEC.bmad    FACET2p_DR.xsif\t  L2.xsif    SCAV.bmad\n",
      "BC20E.xsif  F2_ELEC.xsif    FACET2p_master.xsif   L3.bmad    SCAV.xsif\n",
      "BC20P.xsif  F2_POSI.xsif    FACET2p_PRLTDR.xsif   L3.xsif\n",
      "BD.xsif     F2_S10AIP.xsif  INJ.bmad\t\t  LI20.bmad\n",
      "cd ~/repos/facet2-lattice/bmad/conversion/work;python $ACC_ROOT_DIR/util_programs/mad_to_bmad/mad8_to_bmad.py --no_prepend_vars -f F2_ELEC.xsif\n",
      "Input lattice file is:  F2_ELEC.xsif\n",
      "Output lattice file is: F2_ELEC.bmad\n",
      "    Copying all to /home/mpe/repos/facet2-lattice/bmad/master/\n"
     ]
    }
   ],
   "source": [
    "def process_master(master):\n",
    "    \n",
    "    print(f'Converting {master}')\n",
    "    \n",
    "    shutil.copytree(TEMPDIR, WORKDIR, dirs_exist_ok=True)\n",
    "    !ls work\n",
    "    # New method\n",
    "    SCRIPT = f'cd ~/repos/facet2-lattice/bmad/conversion/work;python $ACC_ROOT_DIR/util_programs/mad_to_bmad/mad8_to_bmad.py --no_prepend_vars -f {master}'\n",
    "    print(SCRIPT)\n",
    "    res = subprocess.run(SCRIPT, shell=True, cwd=WORKDIR)\n",
    "    \n",
    "    assert res.returncode == 0\n",
    "    \n",
    "    BMAD_FILES=glob(WORKDIR+'/*bmad')\n",
    "\n",
    "    REPLACEMENTS = all_replacements(master)\n",
    "    #REPLACEMENTS={}\n",
    "\n",
    "    for f in BMAD_FILES:       \n",
    "        finalize_bmad(f, replacements=REPLACEMENTS, verbose=False)   \n",
    "    \n",
    "    print(f'    Copying all to {DEST}')\n",
    "    for f in BMAD_FILES:\n",
    "        #print(f'copying {f} to {DEST}')\n",
    "        shutil.copy(f, DEST)\n",
    "    \n",
    "    \n",
    "process_master('F2_ELEC.xsif')\n",
    "#process_master('INJ.xsif')"
   ]
  },
  {
   "cell_type": "code",
   "execution_count": 21,
   "metadata": {},
   "outputs": [
    {
     "data": {
      "text/plain": [
       "dict_keys(['um10466', 'dh02b', 'dh03a', 'l0af_full', 'l0bf_full', 'k11_2a_full', 'l1xf_full', 'k11_4a_full', 'k11_6a_full', 'k12_2a_full', 'k12_3a_full', 'k12_4a_full', 'k12_5a_full', 'k12_6a_full', 'k12_7a_full', 'k12_8a_full', 'k12_8d_full', 'k13_2a_full', 'k13_3a_full', 'k13_4a_full', 'k13_5a_full', 'k13_6a_full', 'k13_7a_full', 'k13_8a_full', 'k13_8d_full', 'k14_2a_full', 'k14_3a_full', 'k14_4a_full', 'k14_5a_full', 'k14_6a_full', 'k14_6d_full', 'k15_1a_full', 'k15_2a_full', 'k15_3a_full', 'k15_4a_full', 'k15_5a_full', 'k15_6a_full', 'k15_7a_full', 'k15_8a_full', 'k15_8d_full', 'k16_2a_full', 'k16_3a_full', 'k16_4a_full', 'k16_5a_full', 'k16_6a_full', 'k16_7a_full', 'k16_8a_full', 'k16_8d_full', 'k17_2a_full', 'k17_3a_full', 'k17_4a_full', 'k17_5a_full', 'k17_6a_full', 'k17_7a_full', 'k17_8a_full', 'k17_8d_full', 'k18_2a_full', 'k18_3a_full', 'k18_4a_full', 'k18_5a_full', 'k18_6a_full', 'k18_7a_full', 'k18_8a_full', 'k18_8d_full', 'k19_2a_full', 'k19_3a_full', 'k19_4a_full', 'k19_4d_full', 'k19_5a_full', 'k19_6a_full', 'k19_6d_full'])"
      ]
     },
     "execution_count": 21,
     "metadata": {},
     "output_type": "execute_result"
    }
   ],
   "source": [
    "all_replacements('F2_ELEC.xsif').keys()"
   ]
  },
  {
   "cell_type": "code",
   "execution_count": 22,
   "metadata": {},
   "outputs": [
    {
     "name": "stdout",
     "output_type": "stream",
     "text": [
      "Converting F2_POSI.xsif\n",
      "BA.xsif     common.bmad     F2_SCAV.xsif\t  INJ.xsif   LI20.xsif\n",
      "BC11.bmad   common.xsif     FACET2e_master.bmad   L1.bmad    QDDSQ.xsif\n",
      "BC11.xsif   DL10.bmad\t    FACET2e_master.xsif   L1.xsif    QF2Q.xsif\n",
      "BC14.bmad   DL10.xsif\t    FACET2p_DRTBC11.xsif  L2.bmad    QFCQ.xsif\n",
      "BC14.xsif   F2_ELEC.bmad    FACET2p_DR.xsif\t  L2.xsif    SCAV.bmad\n",
      "BC20E.xsif  F2_ELEC.xsif    FACET2p_master.xsif   L3.bmad    SCAV.xsif\n",
      "BC20P.xsif  F2_POSI.xsif    FACET2p_PRLTDR.xsif   L3.xsif\n",
      "BD.xsif     F2_S10AIP.xsif  INJ.bmad\t\t  LI20.bmad\n",
      "cd ~/repos/facet2-lattice/bmad/conversion/work;python $ACC_ROOT_DIR/util_programs/mad_to_bmad/mad8_to_bmad.py --no_prepend_vars -f F2_POSI.xsif\n",
      "Input lattice file is:  F2_POSI.xsif\n",
      "Output lattice file is: F2_POSI.bmad\n",
      "    Copying all to /home/mpe/repos/facet2-lattice/bmad/master/\n",
      "Converting F2_ELEC.xsif\n",
      "BA.xsif     common.bmad   F2_S10AIP.xsif\tFACET2p_PRLTDR.xsif  L3.xsif\n",
      "BC11.bmad   common.xsif   F2_SCAV.xsif\t\tINJ.bmad\t     LI20.bmad\n",
      "BC11.xsif   DL10.bmad\t  FACET2e_master.bmad\tINJ.xsif\t     LI20.xsif\n",
      "BC14.bmad   DL10.xsif\t  FACET2e_master.xsif\tL1.bmad\t\t     QDDSQ.xsif\n",
      "BC14.xsif   F2_ELEC.bmad  FACET2p_DRTBC11.xsif\tL1.xsif\t\t     QF2Q.xsif\n",
      "BC20E.xsif  F2_ELEC.xsif  FACET2p_DR.xsif\tL2.bmad\t\t     QFCQ.xsif\n",
      "BC20P.xsif  F2_POSI.bmad  FACET2p_master.bmad\tL2.xsif\t\t     SCAV.bmad\n",
      "BD.xsif     F2_POSI.xsif  FACET2p_master.xsif\tL3.bmad\t\t     SCAV.xsif\n",
      "cd ~/repos/facet2-lattice/bmad/conversion/work;python $ACC_ROOT_DIR/util_programs/mad_to_bmad/mad8_to_bmad.py --no_prepend_vars -f F2_ELEC.xsif\n",
      "Input lattice file is:  F2_ELEC.xsif\n",
      "Output lattice file is: F2_ELEC.bmad\n",
      "    Copying all to /home/mpe/repos/facet2-lattice/bmad/master/\n",
      "Converting F2_SCAV.xsif\n",
      "BA.xsif     common.bmad   F2_S10AIP.xsif\tFACET2p_PRLTDR.xsif  L3.xsif\n",
      "BC11.bmad   common.xsif   F2_SCAV.xsif\t\tINJ.bmad\t     LI20.bmad\n",
      "BC11.xsif   DL10.bmad\t  FACET2e_master.bmad\tINJ.xsif\t     LI20.xsif\n",
      "BC14.bmad   DL10.xsif\t  FACET2e_master.xsif\tL1.bmad\t\t     QDDSQ.xsif\n",
      "BC14.xsif   F2_ELEC.bmad  FACET2p_DRTBC11.xsif\tL1.xsif\t\t     QF2Q.xsif\n",
      "BC20E.xsif  F2_ELEC.xsif  FACET2p_DR.xsif\tL2.bmad\t\t     QFCQ.xsif\n",
      "BC20P.xsif  F2_POSI.bmad  FACET2p_master.bmad\tL2.xsif\t\t     SCAV.bmad\n",
      "BD.xsif     F2_POSI.xsif  FACET2p_master.xsif\tL3.bmad\t\t     SCAV.xsif\n",
      "cd ~/repos/facet2-lattice/bmad/conversion/work;python $ACC_ROOT_DIR/util_programs/mad_to_bmad/mad8_to_bmad.py --no_prepend_vars -f F2_SCAV.xsif\n",
      "Input lattice file is:  F2_SCAV.xsif\n",
      "Output lattice file is: F2_SCAV.bmad\n",
      "    Copying all to /home/mpe/repos/facet2-lattice/bmad/master/\n",
      "Converting F2_S10AIP.xsif\n",
      "BA.xsif      common.xsif     F2_SCAV.xsif\t   INJ.xsif   QDDSQ.xsif\n",
      "BC11.bmad    DL10.bmad\t     FACET2e_master.bmad   L1.bmad    QF2Q.xsif\n",
      "BC11.xsif    DL10.xsif\t     FACET2e_master.xsif   L1.xsif    QFCQ.xsif\n",
      "BC14.bmad    F2_ELEC.bmad    FACET2p_DRTBC11.xsif  L2.bmad    SCAV.bmad\n",
      "BC14.xsif    F2_ELEC.xsif    FACET2p_DR.xsif\t   L2.xsif    SCAV.xsif\n",
      "BC20E.xsif   F2_POSI.bmad    FACET2p_master.bmad   L3.bmad\n",
      "BC20P.xsif   F2_POSI.xsif    FACET2p_master.xsif   L3.xsif\n",
      "BD.xsif      F2_S10AIP.xsif  FACET2p_PRLTDR.xsif   LI20.bmad\n",
      "common.bmad  F2_SCAV.bmad    INJ.bmad\t\t   LI20.xsif\n",
      "cd ~/repos/facet2-lattice/bmad/conversion/work;python $ACC_ROOT_DIR/util_programs/mad_to_bmad/mad8_to_bmad.py --no_prepend_vars -f F2_S10AIP.xsif\n",
      "Input lattice file is:  F2_S10AIP.xsif\n",
      "Output lattice file is: F2_S10AIP.bmad\n",
      "    Copying all to /home/mpe/repos/facet2-lattice/bmad/master/\n"
     ]
    }
   ],
   "source": [
    "for m in F2_MASTERS:\n",
    "    process_master(m)"
   ]
  },
  {
   "cell_type": "markdown",
   "metadata": {},
   "source": [
    "# Final cleanup"
   ]
  },
  {
   "cell_type": "code",
   "execution_count": 19,
   "metadata": {},
   "outputs": [],
   "source": [
    "!rm -r {TEMPDIR}\n",
    "!rm -r {WORKDIR}"
   ]
  }
 ],
 "metadata": {
  "kernelspec": {
   "display_name": "Python 3 (ipykernel)",
   "language": "python",
   "name": "python3"
  },
  "language_info": {
   "codemirror_mode": {
    "name": "ipython",
    "version": 3
   },
   "file_extension": ".py",
   "mimetype": "text/x-python",
   "name": "python",
   "nbconvert_exporter": "python",
   "pygments_lexer": "ipython3",
   "version": "3.8.18"
  }
 },
 "nbformat": 4,
 "nbformat_minor": 4
}
